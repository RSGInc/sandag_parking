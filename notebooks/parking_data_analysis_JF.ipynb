{
 "cells": [
  {
   "cell_type": "code",
   "execution_count": 1,
   "id": "382a1bd2",
   "metadata": {},
   "outputs": [],
   "source": [
    "import numpy as np\n",
    "import pandas as pd\n",
    "from sklearn.linear_model import LinearRegression\n",
    "import matplotlib.pyplot as plt"
   ]
  },
  {
   "cell_type": "code",
   "execution_count": 2,
   "id": "456463ac",
   "metadata": {},
   "outputs": [
    {
     "name": "stdout",
     "output_type": "stream",
     "text": [
      "   mgra  on_street_free_spaces  on_street_paid_spaces  \\\n",
      "0     2                    0.0                   27.0   \n",
      "1    12                   18.0                    3.0   \n",
      "2    16                   52.0                    2.0   \n",
      "3    25                   10.0                   24.0   \n",
      "4    28                   20.0                   12.0   \n",
      "\n",
      "   on_street_hourly_cost_during_business  \\\n",
      "0                                   1.25   \n",
      "1                                   1.25   \n",
      "2                                   1.25   \n",
      "3                                   1.25   \n",
      "4                                   1.25   \n",
      "\n",
      "   on_street_hourly_cost_after_business  off_street_free_spaces  \\\n",
      "0                                  1.25                     0.0   \n",
      "1                                  0.00                     0.0   \n",
      "2                                  0.00                     0.0   \n",
      "3                                  1.25                     0.0   \n",
      "4                                  1.25                     0.0   \n",
      "\n",
      "   off_street_paid_public_spaces  off_street_paid_private_spaces  \\\n",
      "0                           75.0                            75.0   \n",
      "1                           30.0                            48.0   \n",
      "2                           50.0                            50.0   \n",
      "3                           10.0                            10.0   \n",
      "4                           12.0                            98.0   \n",
      "\n",
      "   off_street_paid_public_hourly_cost_during_business  \\\n",
      "0                                                NaN    \n",
      "1                                                NaN    \n",
      "2                                                NaN    \n",
      "3                                                NaN    \n",
      "4                                                NaN    \n",
      "\n",
      "   off_street_paid_public_hourly_cost_after_business  \\\n",
      "0                                                NaN   \n",
      "1                                                NaN   \n",
      "2                                                NaN   \n",
      "3                                                NaN   \n",
      "4                                                NaN   \n",
      "\n",
      "   off_street_paid_public_daily_cost  off_street_paid_public_monthly_cost  \\\n",
      "0                                NaN                                  NaN   \n",
      "1                                NaN                                  NaN   \n",
      "2                                NaN                                  NaN   \n",
      "3                                NaN                                  NaN   \n",
      "4                                NaN                                  NaN   \n",
      "\n",
      "   off_street_paid_private_hourly_cost_during_business  \\\n",
      "0                                                NaN     \n",
      "1                                                NaN     \n",
      "2                                                NaN     \n",
      "3                                                NaN     \n",
      "4                                                NaN     \n",
      "\n",
      "   off_street_paid_private_hourly_cost_after_business  \\\n",
      "0                                                NaN    \n",
      "1                                                NaN    \n",
      "2                                                NaN    \n",
      "3                                                NaN    \n",
      "4                                                NaN    \n",
      "\n",
      "   off_street_paid_private_daily_cost  off_street_paid_private_monthly_cost  \\\n",
      "0                                 NaN                                   NaN   \n",
      "1                                 NaN                                   NaN   \n",
      "2                                 NaN                                   NaN   \n",
      "3                                 NaN                                   NaN   \n",
      "4                                 NaN                                   NaN   \n",
      "\n",
      "   off_street_residential_spaces  \n",
      "0                           22.0  \n",
      "1                            8.0  \n",
      "2                            0.0  \n",
      "3                            0.0  \n",
      "4                           40.0  \n"
     ]
    }
   ],
   "source": [
    "# Read data\n",
    "parking_df = pd.read_csv('C:/projects/SANDAG/2017 On-Call Modeling Services/Area B/TO 05 - ABM3/data/Parking/mgra_parking_inventory.csv')\n",
    "print(parking_df.head())"
   ]
  },
  {
   "cell_type": "code",
   "execution_count": 6,
   "id": "5338ef9e",
   "metadata": {},
   "outputs": [
    {
     "data": {
      "text/html": [
       "<div>\n",
       "<style scoped>\n",
       "    .dataframe tbody tr th:only-of-type {\n",
       "        vertical-align: middle;\n",
       "    }\n",
       "\n",
       "    .dataframe tbody tr th {\n",
       "        vertical-align: top;\n",
       "    }\n",
       "\n",
       "    .dataframe thead th {\n",
       "        text-align: right;\n",
       "    }\n",
       "</style>\n",
       "<table border=\"1\" class=\"dataframe\">\n",
       "  <thead>\n",
       "    <tr style=\"text-align: right;\">\n",
       "      <th></th>\n",
       "      <th>off_street_paid_public_hourly_cost_during_business</th>\n",
       "      <th>off_street_paid_public_daily_cost</th>\n",
       "      <th>off_street_paid_public_monthly_cost</th>\n",
       "      <th>off_street_paid_private_hourly_cost_during_business</th>\n",
       "      <th>off_street_paid_private_daily_cost</th>\n",
       "      <th>off_street_paid_private_monthly_cost</th>\n",
       "    </tr>\n",
       "  </thead>\n",
       "  <tbody>\n",
       "    <tr>\n",
       "      <th>count</th>\n",
       "      <td>51.000000</td>\n",
       "      <td>32.000000</td>\n",
       "      <td>12.000000</td>\n",
       "      <td>187.000000</td>\n",
       "      <td>202.000000</td>\n",
       "      <td>57.000000</td>\n",
       "    </tr>\n",
       "    <tr>\n",
       "      <th>mean</th>\n",
       "      <td>2.759262</td>\n",
       "      <td>6.446890</td>\n",
       "      <td>91.191964</td>\n",
       "      <td>8.110603</td>\n",
       "      <td>21.133152</td>\n",
       "      <td>141.347556</td>\n",
       "    </tr>\n",
       "    <tr>\n",
       "      <th>std</th>\n",
       "      <td>0.978999</td>\n",
       "      <td>2.427483</td>\n",
       "      <td>10.210003</td>\n",
       "      <td>6.455746</td>\n",
       "      <td>11.423176</td>\n",
       "      <td>66.084282</td>\n",
       "    </tr>\n",
       "    <tr>\n",
       "      <th>min</th>\n",
       "      <td>0.500000</td>\n",
       "      <td>2.000000</td>\n",
       "      <td>68.303571</td>\n",
       "      <td>0.609185</td>\n",
       "      <td>3.000000</td>\n",
       "      <td>2.238806</td>\n",
       "    </tr>\n",
       "    <tr>\n",
       "      <th>25%</th>\n",
       "      <td>2.500000</td>\n",
       "      <td>5.375000</td>\n",
       "      <td>90.000000</td>\n",
       "      <td>3.000000</td>\n",
       "      <td>12.177831</td>\n",
       "      <td>96.693548</td>\n",
       "    </tr>\n",
       "    <tr>\n",
       "      <th>50%</th>\n",
       "      <td>3.000000</td>\n",
       "      <td>5.975000</td>\n",
       "      <td>93.000000</td>\n",
       "      <td>6.282723</td>\n",
       "      <td>18.550000</td>\n",
       "      <td>150.000000</td>\n",
       "    </tr>\n",
       "    <tr>\n",
       "      <th>75%</th>\n",
       "      <td>3.000000</td>\n",
       "      <td>7.000000</td>\n",
       "      <td>100.500000</td>\n",
       "      <td>10.074405</td>\n",
       "      <td>28.131146</td>\n",
       "      <td>190.000000</td>\n",
       "    </tr>\n",
       "    <tr>\n",
       "      <th>max</th>\n",
       "      <td>5.000000</td>\n",
       "      <td>15.000000</td>\n",
       "      <td>100.500000</td>\n",
       "      <td>40.000000</td>\n",
       "      <td>60.000000</td>\n",
       "      <td>260.000000</td>\n",
       "    </tr>\n",
       "  </tbody>\n",
       "</table>\n",
       "</div>"
      ],
      "text/plain": [
       "       off_street_paid_public_hourly_cost_during_business  \\\n",
       "count                                          51.000000    \n",
       "mean                                            2.759262    \n",
       "std                                             0.978999    \n",
       "min                                             0.500000    \n",
       "25%                                             2.500000    \n",
       "50%                                             3.000000    \n",
       "75%                                             3.000000    \n",
       "max                                             5.000000    \n",
       "\n",
       "       off_street_paid_public_daily_cost  off_street_paid_public_monthly_cost  \\\n",
       "count                          32.000000                            12.000000   \n",
       "mean                            6.446890                            91.191964   \n",
       "std                             2.427483                            10.210003   \n",
       "min                             2.000000                            68.303571   \n",
       "25%                             5.375000                            90.000000   \n",
       "50%                             5.975000                            93.000000   \n",
       "75%                             7.000000                           100.500000   \n",
       "max                            15.000000                           100.500000   \n",
       "\n",
       "       off_street_paid_private_hourly_cost_during_business  \\\n",
       "count                                         187.000000     \n",
       "mean                                            8.110603     \n",
       "std                                             6.455746     \n",
       "min                                             0.609185     \n",
       "25%                                             3.000000     \n",
       "50%                                             6.282723     \n",
       "75%                                            10.074405     \n",
       "max                                            40.000000     \n",
       "\n",
       "       off_street_paid_private_daily_cost  \\\n",
       "count                          202.000000   \n",
       "mean                            21.133152   \n",
       "std                             11.423176   \n",
       "min                              3.000000   \n",
       "25%                             12.177831   \n",
       "50%                             18.550000   \n",
       "75%                             28.131146   \n",
       "max                             60.000000   \n",
       "\n",
       "       off_street_paid_private_monthly_cost  \n",
       "count                             57.000000  \n",
       "mean                             141.347556  \n",
       "std                               66.084282  \n",
       "min                                2.238806  \n",
       "25%                               96.693548  \n",
       "50%                              150.000000  \n",
       "75%                              190.000000  \n",
       "max                              260.000000  "
      ]
     },
     "execution_count": 6,
     "metadata": {},
     "output_type": "execute_result"
    }
   ],
   "source": [
    "parking_df[['off_street_paid_public_hourly_cost_during_business','off_street_paid_public_daily_cost','off_street_paid_public_monthly_cost','off_street_paid_private_hourly_cost_during_business','off_street_paid_private_daily_cost','off_street_paid_private_monthly_cost']].describe()"
   ]
  },
  {
   "cell_type": "code",
   "execution_count": 7,
   "id": "050443f3",
   "metadata": {},
   "outputs": [
    {
     "data": {
      "text/html": [
       "<div>\n",
       "<style scoped>\n",
       "    .dataframe tbody tr th:only-of-type {\n",
       "        vertical-align: middle;\n",
       "    }\n",
       "\n",
       "    .dataframe tbody tr th {\n",
       "        vertical-align: top;\n",
       "    }\n",
       "\n",
       "    .dataframe thead th {\n",
       "        text-align: right;\n",
       "    }\n",
       "</style>\n",
       "<table border=\"1\" class=\"dataframe\">\n",
       "  <thead>\n",
       "    <tr style=\"text-align: right;\">\n",
       "      <th></th>\n",
       "      <th>off_street_paid_public_hourly_cost_during_business</th>\n",
       "      <th>off_street_paid_public_daily_cost</th>\n",
       "      <th>off_street_paid_public_monthly_cost</th>\n",
       "    </tr>\n",
       "  </thead>\n",
       "  <tbody>\n",
       "    <tr>\n",
       "      <th>off_street_paid_public_hourly_cost_during_business</th>\n",
       "      <td>1.000000</td>\n",
       "      <td>-0.086482</td>\n",
       "      <td>-0.678125</td>\n",
       "    </tr>\n",
       "    <tr>\n",
       "      <th>off_street_paid_public_daily_cost</th>\n",
       "      <td>-0.086482</td>\n",
       "      <td>1.000000</td>\n",
       "      <td>-0.246331</td>\n",
       "    </tr>\n",
       "    <tr>\n",
       "      <th>off_street_paid_public_monthly_cost</th>\n",
       "      <td>-0.678125</td>\n",
       "      <td>-0.246331</td>\n",
       "      <td>1.000000</td>\n",
       "    </tr>\n",
       "  </tbody>\n",
       "</table>\n",
       "</div>"
      ],
      "text/plain": [
       "                                                    off_street_paid_public_hourly_cost_during_business  \\\n",
       "off_street_paid_public_hourly_cost_during_business                                           1.000000    \n",
       "off_street_paid_public_daily_cost                                                           -0.086482    \n",
       "off_street_paid_public_monthly_cost                                                         -0.678125    \n",
       "\n",
       "                                                    off_street_paid_public_daily_cost  \\\n",
       "off_street_paid_public_hourly_cost_during_business                          -0.086482   \n",
       "off_street_paid_public_daily_cost                                            1.000000   \n",
       "off_street_paid_public_monthly_cost                                         -0.246331   \n",
       "\n",
       "                                                    off_street_paid_public_monthly_cost  \n",
       "off_street_paid_public_hourly_cost_during_business                            -0.678125  \n",
       "off_street_paid_public_daily_cost                                             -0.246331  \n",
       "off_street_paid_public_monthly_cost                                            1.000000  "
      ]
     },
     "execution_count": 7,
     "metadata": {},
     "output_type": "execute_result"
    }
   ],
   "source": [
    "#Off-street public parking correlation\n",
    "parking_df[['off_street_paid_public_hourly_cost_during_business','off_street_paid_public_daily_cost','off_street_paid_public_monthly_cost']].corr()\n"
   ]
  },
  {
   "cell_type": "code",
   "execution_count": 8,
   "id": "2d7ae180",
   "metadata": {},
   "outputs": [
    {
     "data": {
      "image/png": "[encoded data removed]",
      "text/plain": [
       "<Figure size 432x288 with 1 Axes>"
      ]
     },
     "metadata": {
      "needs_background": "light"
     },
     "output_type": "display_data"
    }
   ],
   "source": [
    "X = parking_df['off_street_paid_public_daily_cost'].fillna(0).values.reshape(-1, 1)\n",
    "Y = parking_df['off_street_paid_public_hourly_cost_during_business'].fillna(0).values.reshape(-1, 1)\n",
    "linear_regressor = LinearRegression()\n",
    "linear_regressor.fit(X, Y)\n",
    "Y_pred = linear_regressor.predict(X)\n",
    "plt.scatter(X, Y)\n",
    "plt.plot(X, Y_pred, color='red')\n",
    "plt.show()\n",
    "#parking_df.plot.scatter(y='off_street_paid_public_hourly_cost_during_business', x='off_street_paid_public_daily_cost', s = 100, c='black')"
   ]
  },
  {
   "cell_type": "code",
   "execution_count": 9,
   "id": "ab92a546",
   "metadata": {},
   "outputs": [
    {
     "data": {
      "image/png": "[encoded data removed]",
      "text/plain": [
       "<Figure size 432x288 with 1 Axes>"
      ]
     },
     "metadata": {
      "needs_background": "light"
     },
     "output_type": "display_data"
    }
   ],
   "source": [
    "X = parking_df['off_street_paid_public_daily_cost'].fillna(0).values.reshape(-1, 1)\n",
    "Y = parking_df['off_street_paid_public_monthly_cost'].fillna(0).values.reshape(-1, 1)\n",
    "linear_regressor = LinearRegression()\n",
    "linear_regressor.fit(X, Y)\n",
    "Y_pred = linear_regressor.predict(X)\n",
    "plt.scatter(X, Y)\n",
    "plt.plot(X, Y_pred, color='red')\n",
    "plt.show()\n",
    "#parking_df.plot.scatter(y='off_street_paid_public_monthly_cost', x='off_street_paid_public_daily_cost', s = 100, c='black')"
   ]
  },
  {
   "cell_type": "code",
   "execution_count": 10,
   "id": "71856c15",
   "metadata": {},
   "outputs": [
    {
     "data": {
      "text/html": [
       "<div>\n",
       "<style scoped>\n",
       "    .dataframe tbody tr th:only-of-type {\n",
       "        vertical-align: middle;\n",
       "    }\n",
       "\n",
       "    .dataframe tbody tr th {\n",
       "        vertical-align: top;\n",
       "    }\n",
       "\n",
       "    .dataframe thead th {\n",
       "        text-align: right;\n",
       "    }\n",
       "</style>\n",
       "<table border=\"1\" class=\"dataframe\">\n",
       "  <thead>\n",
       "    <tr style=\"text-align: right;\">\n",
       "      <th></th>\n",
       "      <th>off_street_paid_private_hourly_cost_during_business</th>\n",
       "      <th>off_street_paid_private_daily_cost</th>\n",
       "      <th>off_street_paid_private_monthly_cost</th>\n",
       "    </tr>\n",
       "  </thead>\n",
       "  <tbody>\n",
       "    <tr>\n",
       "      <th>off_street_paid_private_hourly_cost_during_business</th>\n",
       "      <td>1.000000</td>\n",
       "      <td>0.396993</td>\n",
       "      <td>0.363518</td>\n",
       "    </tr>\n",
       "    <tr>\n",
       "      <th>off_street_paid_private_daily_cost</th>\n",
       "      <td>0.396993</td>\n",
       "      <td>1.000000</td>\n",
       "      <td>0.298213</td>\n",
       "    </tr>\n",
       "    <tr>\n",
       "      <th>off_street_paid_private_monthly_cost</th>\n",
       "      <td>0.363518</td>\n",
       "      <td>0.298213</td>\n",
       "      <td>1.000000</td>\n",
       "    </tr>\n",
       "  </tbody>\n",
       "</table>\n",
       "</div>"
      ],
      "text/plain": [
       "                                                    off_street_paid_private_hourly_cost_during_business  \\\n",
       "off_street_paid_private_hourly_cost_during_busi...                                           1.000000     \n",
       "off_street_paid_private_daily_cost                                                           0.396993     \n",
       "off_street_paid_private_monthly_cost                                                         0.363518     \n",
       "\n",
       "                                                    off_street_paid_private_daily_cost  \\\n",
       "off_street_paid_private_hourly_cost_during_busi...                            0.396993   \n",
       "off_street_paid_private_daily_cost                                            1.000000   \n",
       "off_street_paid_private_monthly_cost                                          0.298213   \n",
       "\n",
       "                                                    off_street_paid_private_monthly_cost  \n",
       "off_street_paid_private_hourly_cost_during_busi...                              0.363518  \n",
       "off_street_paid_private_daily_cost                                              0.298213  \n",
       "off_street_paid_private_monthly_cost                                            1.000000  "
      ]
     },
     "execution_count": 10,
     "metadata": {},
     "output_type": "execute_result"
    }
   ],
   "source": [
    "#Off-street private parking correlation\n",
    "parking_df[['off_street_paid_private_hourly_cost_during_business','off_street_paid_private_daily_cost','off_street_paid_private_monthly_cost']].corr()\n"
   ]
  },
  {
   "cell_type": "code",
   "execution_count": 11,
   "id": "06f40f55",
   "metadata": {},
   "outputs": [
    {
     "data": {
      "image/png": "[encoded data removed]",
      "text/plain": [
       "<Figure size 432x288 with 1 Axes>"
      ]
     },
     "metadata": {
      "needs_background": "light"
     },
     "output_type": "display_data"
    }
   ],
   "source": [
    "X = parking_df['off_street_paid_private_daily_cost'].fillna(0).values.reshape(-1, 1)\n",
    "Y = parking_df['off_street_paid_private_hourly_cost_during_business'].fillna(0).values.reshape(-1, 1)\n",
    "linear_regressor = LinearRegression()\n",
    "linear_regressor.fit(X, Y)\n",
    "Y_pred = linear_regressor.predict(X)\n",
    "plt.scatter(X, Y)\n",
    "plt.plot(X, Y_pred, color='red')\n",
    "plt.show()\n",
    "#parking_df.plot.scatter(y='off_street_paid_private_hourly_cost_during_business', x='off_street_paid_private_daily_cost', s = 100, c='black')"
   ]
  },
  {
   "cell_type": "code",
   "execution_count": 12,
   "id": "d0dbe293",
   "metadata": {},
   "outputs": [
    {
     "data": {
      "image/png": "[encoded data removed]",
      "text/plain": [
       "<Figure size 432x288 with 1 Axes>"
      ]
     },
     "metadata": {
      "needs_background": "light"
     },
     "output_type": "display_data"
    }
   ],
   "source": [
    "X = parking_df['off_street_paid_private_daily_cost'].fillna(0).values.reshape(-1, 1)\n",
    "Y = parking_df['off_street_paid_private_monthly_cost'].fillna(0).values.reshape(-1, 1)\n",
    "linear_regressor = LinearRegression()\n",
    "linear_regressor.fit(X, Y)\n",
    "Y_pred = linear_regressor.predict(X)\n",
    "plt.scatter(X, Y)\n",
    "plt.plot(X, Y_pred, color='red')\n",
    "plt.show()\n",
    "#parking_df.plot.scatter(y='off_street_paid_private_monthly_cost', x='off_street_paid_private_daily_cost', s = 100, c='black')"
   ]
  },
  {
   "cell_type": "code",
   "execution_count": 15,
   "id": "5d1417e2",
   "metadata": {},
   "outputs": [],
   "source": [
    " #set max values for each off-street parking cost, since some public/private values are zero\n",
    "parking_df['off_street_paid_monthly_cost'] = parking_df[['off_street_paid_private_monthly_cost','off_street_paid_public_monthly_cost']].max(axis=1)\n",
    "parking_df['off_street_paid_daily_cost'] = parking_df[['off_street_paid_private_daily_cost','off_street_paid_public_daily_cost']].max(axis=1)\n",
    "parking_df['off_street_paid_hourly_cost'] = parking_df[['off_street_paid_public_hourly_cost_during_business','off_street_paid_private_hourly_cost_during_business']].max(axis=1)"
   ]
  }
 ],
 "metadata": {
  "kernelspec": {
   "display_name": "Python 3",
   "language": "python",
   "name": "python3"
  },
  "language_info": {
   "codemirror_mode": {
    "name": "ipython",
    "version": 3
   },
   "file_extension": ".py",
   "mimetype": "text/x-python",
   "name": "python",
   "nbconvert_exporter": "python",
   "pygments_lexer": "ipython3",
   "version": "3.9.4"
  }
 },
 "nbformat": 4,
 "nbformat_minor": 5
}
